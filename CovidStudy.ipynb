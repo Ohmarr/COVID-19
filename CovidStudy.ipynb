{
 "cells": [
  {
   "cell_type": "code",
   "execution_count": 8,
   "metadata": {},
   "outputs": [],
   "source": [
    "import pandas as pd\n",
    "import numpy as np\n",
    "import OpenBlender as OB\n",
    "from datetime import date\n",
    "import json\n",
    "import os\n",
    "from dotenv import load_dotenv\n",
    "import matplotlib as mpl\n",
    "import matplotlib.pyplot as plt\n",
    "import seaborn as sns\n",
    "import warnings; warnings.filterwarnings(action='once')"
   ]
  },
  {
   "cell_type": "code",
   "execution_count": 9,
   "metadata": {},
   "outputs": [
    {
     "name": "stdout",
     "output_type": "stream",
     "text": [
      "Today's date: 2020-03-19\n"
     ]
    }
   ],
   "source": [
    "today = date.today()\n",
    "print(\"Today's date:\", today)"
   ]
  },
  {
   "cell_type": "code",
   "execution_count": 4,
   "metadata": {},
   "outputs": [],
   "source": [
    "# openblender_api_key = os.getenv('openblender_api_key')\n",
    "# load_dotenv(verbose=True)"
   ]
  },
  {
   "cell_type": "code",
   "execution_count": 5,
   "metadata": {},
   "outputs": [],
   "source": [
    "# action = 'API_getObservationsFromDataset'\n",
    "# parameters = {\n",
    "#     'token': openblender_api_key,\n",
    "#     'id_dataset':'5e6ac97595162921fda18076',\n",
    "#     'date_filter':{\n",
    "#         \"start_date\":\"2020-01-01T06:00:00.000Z\",\n",
    "#         \"end_date\":str(today)+\"T06:00:00.000Z\"\n",
    "#     },\n",
    "# }\n",
    "\n",
    "# df_confirmed = pd.read_json(json.dumps(OB.call(action, parameters)['sample']), convert_dates=False, convert_axes=False).sort_values('timestamp', ascending=False)\n",
    "# df_confirmed.reset_index(drop=True, inplace=True)"
   ]
  },
  {
   "cell_type": "code",
   "execution_count": 6,
   "metadata": {},
   "outputs": [],
   "source": [
    "# df_confirmed.head(25)"
   ]
  },
  {
   "cell_type": "code",
   "execution_count": 33,
   "metadata": {},
   "outputs": [],
   "source": [
    "# df_confirmed[df_confirmed.provincestate=='Texas']\n",
    "date_cols = ['1/22/20', \n",
    "             '1/23/20',\n",
    "             '1/24/20',\n",
    "             '1/25/20',\n",
    "             '1/26/20',\n",
    "             '1/27/20',\n",
    "             '1/28/20',\n",
    "             '1/29/20',\n",
    "             '1/30/20',\n",
    "             '1/31/20',\n",
    "             '2/1/20',\n",
    "             '2/2/20',\n",
    "             '2/3/20',\n",
    "             '2/4/20',\n",
    "             '2/5/20',\n",
    "             '2/6/20',\n",
    "             '2/7/20',\n",
    "             '2/8/20',\n",
    "             '2/9/20',\n",
    "             '2/10/20',\n",
    "             '2/11/20',\n",
    "             '2/12/20',\n",
    "             '2/13/20',\n",
    "             '2/14/20',\n",
    "             '2/15/20',\n",
    "             '2/16/20',\n",
    "             '2/17/20',\n",
    "             '2/18/20',\n",
    "             '2/19/20',\n",
    "             '2/20/20',\n",
    "             '2/21/20',\n",
    "             '2/22/20',\n",
    "             '2/23/20',\n",
    "             '2/24/20',\n",
    "             '2/25/20',\n",
    "             '2/26/20',\n",
    "             '2/27/20',\n",
    "             '2/28/20',\n",
    "             '2/29/20',\n",
    "             '3/1/20',\n",
    "             '3/2/20',\n",
    "             '3/3/20',\n",
    "             '3/4/20',\n",
    "             '3/5/20',\n",
    "             '3/6/20',\n",
    "             '3/7/20',\n",
    "             '3/8/20',\n",
    "             '3/9/20',\n",
    "             '3/10/20',\n",
    "             '3/11/20',\n",
    "             '3/12/20',\n",
    "             '3/13/20',\n",
    "             '3/14/20',\n",
    "             '3/15/20',\n",
    "             '3/16/20',\n",
    "             '3/17/20'\n",
    "            ]"
   ]
  },
  {
   "cell_type": "code",
   "execution_count": 48,
   "metadata": {},
   "outputs": [
    {
     "data": {
      "text/plain": [
       "(459, 58)"
      ]
     },
     "execution_count": 48,
     "metadata": {},
     "output_type": "execute_result"
    }
   ],
   "source": [
    "covid_df = pd.read_csv(filepath_or_buffer='Data/time_series_19-covid-Confirmed.csv',\n",
    "#                        header='infer',\n",
    "#                        index_col=None,\n",
    "#                        infer_datetime_format=True,\n",
    "#                        parse_dates=date_cols                        \n",
    "                      )\n",
    "covid_df.drop(columns=['Lat','Long'],axis=1, inplace=True)\n",
    "covid_df.shape # (rows,columns)"
   ]
  },
  {
   "cell_type": "code",
   "execution_count": 49,
   "metadata": {},
   "outputs": [
    {
     "data": {
      "text/html": [
       "<div>\n",
       "<style scoped>\n",
       "    .dataframe tbody tr th:only-of-type {\n",
       "        vertical-align: middle;\n",
       "    }\n",
       "\n",
       "    .dataframe tbody tr th {\n",
       "        vertical-align: top;\n",
       "    }\n",
       "\n",
       "    .dataframe thead th {\n",
       "        text-align: right;\n",
       "    }\n",
       "</style>\n",
       "<table border=\"1\" class=\"dataframe\">\n",
       "  <thead>\n",
       "    <tr style=\"text-align: right;\">\n",
       "      <th></th>\n",
       "      <th>Province/State</th>\n",
       "      <th>Country/Region</th>\n",
       "      <th>1/22/20</th>\n",
       "      <th>1/23/20</th>\n",
       "      <th>1/24/20</th>\n",
       "      <th>1/25/20</th>\n",
       "      <th>1/26/20</th>\n",
       "      <th>1/27/20</th>\n",
       "      <th>1/28/20</th>\n",
       "      <th>1/29/20</th>\n",
       "      <th>...</th>\n",
       "      <th>3/8/20</th>\n",
       "      <th>3/9/20</th>\n",
       "      <th>3/10/20</th>\n",
       "      <th>3/11/20</th>\n",
       "      <th>3/12/20</th>\n",
       "      <th>3/13/20</th>\n",
       "      <th>3/14/20</th>\n",
       "      <th>3/15/20</th>\n",
       "      <th>3/16/20</th>\n",
       "      <th>3/17/20</th>\n",
       "    </tr>\n",
       "  </thead>\n",
       "  <tbody>\n",
       "    <tr>\n",
       "      <th>0</th>\n",
       "      <td>NaN</td>\n",
       "      <td>Thailand</td>\n",
       "      <td>2</td>\n",
       "      <td>3</td>\n",
       "      <td>5</td>\n",
       "      <td>7</td>\n",
       "      <td>8</td>\n",
       "      <td>8</td>\n",
       "      <td>14</td>\n",
       "      <td>14</td>\n",
       "      <td>...</td>\n",
       "      <td>50</td>\n",
       "      <td>50</td>\n",
       "      <td>53</td>\n",
       "      <td>59</td>\n",
       "      <td>70</td>\n",
       "      <td>75</td>\n",
       "      <td>82</td>\n",
       "      <td>114</td>\n",
       "      <td>147</td>\n",
       "      <td>177</td>\n",
       "    </tr>\n",
       "    <tr>\n",
       "      <th>1</th>\n",
       "      <td>NaN</td>\n",
       "      <td>Japan</td>\n",
       "      <td>2</td>\n",
       "      <td>1</td>\n",
       "      <td>2</td>\n",
       "      <td>2</td>\n",
       "      <td>4</td>\n",
       "      <td>4</td>\n",
       "      <td>7</td>\n",
       "      <td>7</td>\n",
       "      <td>...</td>\n",
       "      <td>502</td>\n",
       "      <td>511</td>\n",
       "      <td>581</td>\n",
       "      <td>639</td>\n",
       "      <td>639</td>\n",
       "      <td>701</td>\n",
       "      <td>773</td>\n",
       "      <td>839</td>\n",
       "      <td>825</td>\n",
       "      <td>878</td>\n",
       "    </tr>\n",
       "    <tr>\n",
       "      <th>2</th>\n",
       "      <td>NaN</td>\n",
       "      <td>Singapore</td>\n",
       "      <td>0</td>\n",
       "      <td>1</td>\n",
       "      <td>3</td>\n",
       "      <td>3</td>\n",
       "      <td>4</td>\n",
       "      <td>5</td>\n",
       "      <td>7</td>\n",
       "      <td>7</td>\n",
       "      <td>...</td>\n",
       "      <td>150</td>\n",
       "      <td>150</td>\n",
       "      <td>160</td>\n",
       "      <td>178</td>\n",
       "      <td>178</td>\n",
       "      <td>200</td>\n",
       "      <td>212</td>\n",
       "      <td>226</td>\n",
       "      <td>243</td>\n",
       "      <td>266</td>\n",
       "    </tr>\n",
       "  </tbody>\n",
       "</table>\n",
       "<p>3 rows × 58 columns</p>\n",
       "</div>"
      ],
      "text/plain": [
       "  Province/State Country/Region  1/22/20  1/23/20  1/24/20  1/25/20  1/26/20  \\\n",
       "0            NaN       Thailand        2        3        5        7        8   \n",
       "1            NaN          Japan        2        1        2        2        4   \n",
       "2            NaN      Singapore        0        1        3        3        4   \n",
       "\n",
       "   1/27/20  1/28/20  1/29/20  ...  3/8/20  3/9/20  3/10/20  3/11/20  3/12/20  \\\n",
       "0        8       14       14  ...      50      50       53       59       70   \n",
       "1        4        7        7  ...     502     511      581      639      639   \n",
       "2        5        7        7  ...     150     150      160      178      178   \n",
       "\n",
       "   3/13/20  3/14/20  3/15/20  3/16/20  3/17/20  \n",
       "0       75       82      114      147      177  \n",
       "1      701      773      839      825      878  \n",
       "2      200      212      226      243      266  \n",
       "\n",
       "[3 rows x 58 columns]"
      ]
     },
     "execution_count": 49,
     "metadata": {},
     "output_type": "execute_result"
    }
   ],
   "source": [
    "covid_df.head(3)"
   ]
  },
  {
   "cell_type": "code",
   "execution_count": 50,
   "metadata": {},
   "outputs": [],
   "source": [
    "# covid_df.dtypes"
   ]
  },
  {
   "cell_type": "markdown",
   "metadata": {},
   "source": [
    "|Col|DType|\n",
    "|---|---|\n",
    "|Province/State|object|\n",
    "|Country/Region|object|\n",
    "|Lat|float64|\n",
    "|Long|float64|\n",
    "|Dates|int64|"
   ]
  },
  {
   "cell_type": "code",
   "execution_count": 52,
   "metadata": {
    "scrolled": true
   },
   "outputs": [
    {
     "data": {
      "text/plain": [
       "<matplotlib.axes._subplots.AxesSubplot at 0x1a1b06a850>"
      ]
     },
     "execution_count": 52,
     "metadata": {},
     "output_type": "execute_result"
    },
    {
     "data": {
      "image/png": "[encoded data removed]",
      "text/plain": [
       "<Figure size 432x288 with 1 Axes>"
      ]
     },
     "metadata": {
      "needs_background": "light"
     },
     "output_type": "display_data"
    }
   ],
   "source": [
    "covid_df.plot(legend=False)"
   ]
  },
  {
   "cell_type": "code",
   "execution_count": 25,
   "metadata": {},
   "outputs": [
    {
     "data": {
      "text/plain": [
       "Province/State         NaN\n",
       "Country/Region    Thailand\n",
       "Lat                     15\n",
       "Long                   101\n",
       "1/22/20                  2\n",
       "1/23/20                  3\n",
       "1/24/20                  5\n",
       "1/25/20                  7\n",
       "1/26/20                  8\n",
       "1/27/20                  8\n",
       "1/28/20                 14\n",
       "1/29/20                 14\n",
       "1/30/20                 14\n",
       "1/31/20                 19\n",
       "2/1/20                  19\n",
       "2/2/20                  19\n",
       "2/3/20                  19\n",
       "2/4/20                  25\n",
       "2/5/20                  25\n",
       "2/6/20                  25\n",
       "2/7/20                  25\n",
       "2/8/20                  32\n",
       "2/9/20                  32\n",
       "2/10/20                 32\n",
       "2/11/20                 33\n",
       "2/12/20                 33\n",
       "2/13/20                 33\n",
       "2/14/20                 33\n",
       "2/15/20                 33\n",
       "2/16/20                 34\n",
       "2/17/20                 35\n",
       "2/18/20                 35\n",
       "2/19/20                 35\n",
       "2/20/20                 35\n",
       "2/21/20                 35\n",
       "2/22/20                 35\n",
       "2/23/20                 35\n",
       "2/24/20                 35\n",
       "2/25/20                 37\n",
       "2/26/20                 40\n",
       "2/27/20                 40\n",
       "2/28/20                 41\n",
       "2/29/20                 42\n",
       "3/1/20                  42\n",
       "3/2/20                  43\n",
       "3/3/20                  43\n",
       "3/4/20                  43\n",
       "3/5/20                  47\n",
       "3/6/20                  48\n",
       "3/7/20                  50\n",
       "3/8/20                  50\n",
       "3/9/20                  50\n",
       "3/10/20                 53\n",
       "3/11/20                 59\n",
       "3/12/20                 70\n",
       "3/13/20                 75\n",
       "3/14/20                 82\n",
       "3/15/20                114\n",
       "3/16/20                147\n",
       "3/17/20                177\n",
       "Name: 0, dtype: object"
      ]
     },
     "execution_count": 25,
     "metadata": {},
     "output_type": "execute_result"
    }
   ],
   "source": [
    "covid_df.iloc[0][:]"
   ]
  },
  {
   "cell_type": "code",
   "execution_count": null,
   "metadata": {},
   "outputs": [],
   "source": []
  }
 ],
 "metadata": {
  "kernelspec": {
   "display_name": "Pythonomy",
   "language": "python",
   "name": "pythonomy"
  },
  "language_info": {
   "codemirror_mode": {
    "name": "ipython",
    "version": 3
   },
   "file_extension": ".py",
   "mimetype": "text/x-python",
   "name": "python",
   "nbconvert_exporter": "python",
   "pygments_lexer": "ipython3",
   "version": "3.7.4"
  }
 },
 "nbformat": 4,
 "nbformat_minor": 2
}
